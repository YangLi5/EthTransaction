{
 "cells": [
  {
   "cell_type": "code",
   "execution_count": 1,
   "id": "96e56f55",
   "metadata": {},
   "outputs": [
    {
     "name": "stdout",
     "output_type": "stream",
     "text": [
      "https://api.etherscan.io/api?module=account&action=txlist&address=0xAADEd943BeF6115DaB272C90ef3a1E01a358336d&startblock=0&endblock=99999999&page=1&offset=10000&sort=asc&apikey=YourApiKeyToken\n"
     ]
    }
   ],
   "source": [
    "import json\n",
    "import time\n",
    "from urllib import request\n",
    "\n",
    "#with open('conf.json') as f:\n",
    "#    data = json.load(f)\n",
    "\n",
    "#生成url， 可单独写成函数\n",
    "urlbegin=\"https://api.etherscan.io/api\"\n",
    "\n",
    "urltemplate = {\n",
    "        \"module\":\"?module=\",\n",
    "        \"action\":\"&action=\",\n",
    "        \"address\":\"&address=\",\n",
    "        \"startblock\":\"&startblock=\",\n",
    "        \"endblock\" :\"&endblock=\",\n",
    "        \"page\" :\"&page=\",\n",
    "        \"offset\" :\"&offset=\",\n",
    "        \"sort\" :\"&sort=\",\n",
    "        \"apikey\": \"&apikey=\"\n",
    "      }\n",
    "\n",
    "urlvalue = {\n",
    "        \"module\":\"account\",\n",
    "        \"action\":\"txlist\",\n",
    "        \"address\":\"0xAADEd943BeF6115DaB272C90ef3a1E01a358336d\",\n",
    "        \"startblock\":\"0\",\n",
    "        \"endblock\" :\"99999999\",\n",
    "        \"page\" :\"1\",\n",
    "        \"offset\" :\"10000\",\n",
    "        \"sort\" :\"asc\",\n",
    "        \"apikey\": \"YourApiKeyToken\"\n",
    "      }\n",
    "url = \"https://api.etherscan.io/api\"\n",
    "for key in urltemplate:\n",
    "    url+=urltemplate[key] \n",
    "    url+= urlvalue[key]\n",
    "print(url)"
   ]
  },
  {
   "cell_type": "code",
   "execution_count": 2,
   "id": "0859a480",
   "metadata": {},
   "outputs": [
    {
     "name": "stdout",
     "output_type": "stream",
     "text": [
      "[{'blockNumber': '11780606', 'timeStamp': '1612319634', 'hash': '0x2ac6a56f917baff5f1dd9dcfe68e5bd0c70cba95644addc6f3b475712a0f18aa', 'nonce': '4', 'blockHash': '0xf6b2f9caa5a6661fc1810e97e319ffc20a391637f4833bf0d9e7c301dca4cd91', 'transactionIndex': '97', 'from': '0xb62c48ce22483503b4b997b01fe02baa243fbfcc', 'to': '0xaaded943bef6115dab272c90ef3a1e01a358336d', 'value': '1200000000000000000', 'gas': '21000', 'gasPrice': '129000000000', 'isError': '0', 'txreceipt_status': '1', 'input': '0x', 'contractAddress': '', 'cumulativeGasUsed': '6074101', 'gasUsed': '21000', 'confirmations': '5151280', 'methodId': '0x', 'functionName': ''}, {'blockNumber': '11784585', 'timeStamp': '1612372717', 'hash': '0xa7a56036b40d3d27e4dd7201a493590c6eff5b914884e398b0035528a6e261ee', 'nonce': '0', 'blockHash': '0xd60acbd31a4abbe2f694e33900f5bcc1ff8799cc5937d0d93551e3efd7395900', 'transactionIndex': '246', 'from': '0xaaded943bef6115dab272c90ef3a1e01a358336d', 'to': '0xdac17f958d2ee523a2206206994597c13d831ec7', 'value': '0', 'gas': '101852', 'gasPrice': '239340000000', 'isError': '0', 'txreceipt_status': '1', 'input': '0x095ea7b30000000000000000000000007a250d5630b4cf539739df2c5dacb4c659f2488dffffffffffffffffffffffffffffffffffffffffffffffffffffffffffffffff', 'contractAddress': '', 'cumulativeGasUsed': '12085496', 'gasUsed': '46297', 'confirmations': '5147301', 'methodId': '0x095ea7b3', 'functionName': 'approve(address _spender, uint256 _value)'}, {'blockNumber': '11784740', 'timeStamp': '1612374853', 'hash': '0xb1517bec6514a330670f98f68b6306584c651ac9d8a5f46ba6328b1842ef2e3e', 'nonce': '1', 'blockHash': '0x2eefdfd68ad807e14af5308d88e832537625aab4f686dd81274b78c66ff7ffe5', 'transactionIndex': '96', 'from': '0xaaded943bef6115dab272c90ef3a1e01a358336d', 'to': '0xdac17f958d2ee523a2206206994597c13d831ec7', 'value': '0', 'gas': '60000', 'gasPrice': '253000000000', 'isError': '0', 'txreceipt_status': '1', 'input': '0xa9059cbb000000000000000000000000b62c48ce22483503b4b997b01fe02baa243fbfcc00000000000000000000000000000000000000000000000000000000b2d05e00', 'contractAddress': '', 'cumulativeGasUsed': '8325061', 'gasUsed': '56197', 'confirmations': '5147146', 'methodId': '0xa9059cbb', 'functionName': 'transfer(address _to, uint256 _value)'}, {'blockNumber': '11784852', 'timeStamp': '1612376327', 'hash': '0xfedf9e62afba1b688ed876d7df5aa57baec92a7c84fb6c2270341958c91d7d2b', 'nonce': '2', 'blockHash': '0x40c927b4361f84802e10e4856a9285026f23e3e493830e3cb4da14b408324a8f', 'transactionIndex': '181', 'from': '0xaaded943bef6115dab272c90ef3a1e01a358336d', 'to': '0x7a250d5630b4cf539739df2c5dacb4c659f2488d', 'value': '0', 'gas': '427132', 'gasPrice': '224820000000', 'isError': '0', 'txreceipt_status': '1', 'input': '0x38ed1739000000000000000000000000000000000000000000000000000000064f45cd0a000000000000000000000000000000000000000000000019e891a2b2150ea4c600000000000000000000000000000000000000000000000000000000000000a0000000000000000000000000aaded943bef6115dab272c90ef3a1e01a358336d00000000000000000000000000000000000000000000000000000000601aecf80000000000000000000000000000000000000000000000000000000000000003000000000000000000000000dac17f958d2ee523a2206206994597c13d831ec7000000000000000000000000a0b86991c6218b36c1d19d4a2e9eb0ce3606eb480000000000000000000000000391d2021f89dc339f60fff84546ea23e337750f', 'contractAddress': '', 'cumulativeGasUsed': '11111147', 'gasUsed': '180815', 'confirmations': '5147034', 'methodId': '0x38ed1739', 'functionName': 'swapExactTokensForTokens(uint256 amountIn, uint256 amountOutMin, address[] path, address to, uint256 deadline)'}, {'blockNumber': '11821168', 'timeStamp': '1612859270', 'hash': '0xc48e048b9c6508e5012a43543efa941e5bc26e578daa11e5476dd2d75262c805', 'nonce': '92400', 'blockHash': '0x340cfb77ec8026a20ccda75cbdb1d4c11490edf6ac5d0f6b75dfdcd264909709', 'transactionIndex': '65', 'from': '0xc9610be2843f1618edfedd0860dc43551c727061', 'to': '0xaaded943bef6115dab272c90ef3a1e01a358336d', 'value': '17283000000000000000', 'gas': '90000', 'gasPrice': '263000000000', 'isError': '0', 'txreceipt_status': '1', 'input': '0x', 'contractAddress': '', 'cumulativeGasUsed': '1769958', 'gasUsed': '21000', 'confirmations': '5110718', 'methodId': '0x', 'functionName': ''}, {'blockNumber': '11821214', 'timeStamp': '1612859874', 'hash': '0xeeb89cbbbfe0496a1577adbdea1d45163f5018b187291ef26550c59daed034cb', 'nonce': '3', 'blockHash': '0x4527ec662be6a5d14dc9a053ed0b9cd6a23b786f8bad12f6cc4bb9584c11a3ed', 'transactionIndex': '107', 'from': '0xaaded943bef6115dab272c90ef3a1e01a358336d', 'to': '0x7a250d5630b4cf539739df2c5dacb4c659f2488d', 'value': '17300000000000000000', 'gas': '347354', 'gasPrice': '237600000000', 'isError': '0', 'txreceipt_status': '1', 'input': '0x7ff36ab5000000000000000000000000000000000000000000000000000013ac14f963e60000000000000000000000000000000000000000000000000000000000000080000000000000000000000000aaded943bef6115dab272c90ef3a1e01a358336d0000000000000000000000000000000000000000000000000000000060224e720000000000000000000000000000000000000000000000000000000000000002000000000000000000000000c02aaa39b223fe8d0a0e5c4f27ead9083c756cc2000000000000000000000000d46ba6d942050d489dbd938a2c909a5d5039a161', 'contractAddress': '', 'cumulativeGasUsed': '4337385', 'gasUsed': '132195', 'confirmations': '5110672', 'methodId': '0x7ff36ab5', 'functionName': 'swapExactETHForTokens(uint256 amountOutMin, address[] path, address to, uint256 deadline)'}, {'blockNumber': '11890669', 'timeStamp': '1613781452', 'hash': '0x7a2ebd9b8b0b5f0e8ee08711d6a1d808407acce9e7a4ca04ba7e92fc835c9ee9', 'nonce': '4', 'blockHash': '0x2648793ea778b5de22f7ff7fbf614e8d48391cca0bbe6715f3a346386f82d629', 'transactionIndex': '75', 'from': '0xaaded943bef6115dab272c90ef3a1e01a358336d', 'to': '0x0391d2021f89dc339f60fff84546ea23e337750f', 'value': '0', 'gas': '67213', 'gasPrice': '263736000000', 'isError': '0', 'txreceipt_status': '1', 'input': '0xa9059cbb0000000000000000000000006a130b982e9c5953b62d2d9012b1580af891ab9f00000000000000000000000000000000000000000000001a046556deb7665641', 'contractAddress': '', 'cumulativeGasUsed': '5250225', 'gasUsed': '36213', 'confirmations': '5041217', 'methodId': '0xa9059cbb', 'functionName': 'transfer(address _to, uint256 _value)'}, {'blockNumber': '11894161', 'timeStamp': '1613829115', 'hash': '0xca47fdda84f57bd3aaac372bebab45f9ffc34e27411f01d7cd3a0b56e73830fa', 'nonce': '5', 'blockHash': '0x2fcac846ccd121705f8ad35591b2c583d8588c7d91fe9fed7bafb9eb4d58d6a1', 'transactionIndex': '177', 'from': '0xaaded943bef6115dab272c90ef3a1e01a358336d', 'to': '0xd46ba6d942050d489dbd938a2c909a5d5039a161', 'value': '0', 'gas': '104258', 'gasPrice': '215600000000', 'isError': '0', 'txreceipt_status': '1', 'input': '0x095ea7b30000000000000000000000007a250d5630b4cf539739df2c5dacb4c659f2488dffffffffffffffffffffffffffffffffffffffffffffffffffffffffffffffff', 'contractAddress': '', 'cumulativeGasUsed': '5225470', 'gasUsed': '47080', 'confirmations': '5037725', 'methodId': '0x095ea7b3', 'functionName': 'approve(address _spender, uint256 _value)'}, {'blockNumber': '11894165', 'timeStamp': '1613829174', 'hash': '0xa0e6b7d56d97803bd2f07d367afd62e4f27919acc4086ea45d99e464ac652397', 'nonce': '6', 'blockHash': '0xef5e2b584fc7091bd39aa59b8e41ed0ea182871906fc5fd46524489523a897f8', 'transactionIndex': '61', 'from': '0xaaded943bef6115dab272c90ef3a1e01a358336d', 'to': '0x7a250d5630b4cf539739df2c5dacb4c659f2488d', 'value': '0', 'gas': '431824', 'gasPrice': '216700000000', 'isError': '0', 'txreceipt_status': '1', 'input': '0x38ed1739000000000000000000000000000000000000000000000000000012309ce5400000000000000000000000000000000000000000000000000000000005653add4e00000000000000000000000000000000000000000000000000000000000000a0000000000000000000000000aaded943bef6115dab272c90ef3a1e01a358336d00000000000000000000000000000000000000000000000000000000603118c50000000000000000000000000000000000000000000000000000000000000003000000000000000000000000d46ba6d942050d489dbd938a2c909a5d5039a161000000000000000000000000c02aaa39b223fe8d0a0e5c4f27ead9083c756cc2000000000000000000000000dac17f958d2ee523a2206206994597c13d831ec7', 'contractAddress': '', 'cumulativeGasUsed': '2780860', 'gasUsed': '197894', 'confirmations': '5037721', 'methodId': '0x38ed1739', 'functionName': 'swapExactTokensForTokens(uint256 amountIn, uint256 amountOutMin, address[] path, address to, uint256 deadline)'}, {'blockNumber': '11894191', 'timeStamp': '1613829482', 'hash': '0xa0b73bdab3200e7adeb9c82ffad0051b140e77c07524ec0e3e4249272ac27399', 'nonce': '7', 'blockHash': '0xb32c6981a997868d31847c35a63fb01177b9cbf50d32eaf0dacce6a663ee709c', 'transactionIndex': '156', 'from': '0xaaded943bef6115dab272c90ef3a1e01a358336d', 'to': '0xdac17f958d2ee523a2206206994597c13d831ec7', 'value': '0', 'gas': '72221', 'gasPrice': '220000000000', 'isError': '0', 'txreceipt_status': '1', 'input': '0xa9059cbb0000000000000000000000008979d1e0ecab3cf5ae8a5a7b2d792aa119f34be1000000000000000000000000000000000000000000000000000000001034a888', 'contractAddress': '', 'cumulativeGasUsed': '5316798', 'gasUsed': '41209', 'confirmations': '5037695', 'methodId': '0xa9059cbb', 'functionName': 'transfer(address _to, uint256 _value)'}, {'blockNumber': '11894191', 'timeStamp': '1613829482', 'hash': '0x9cb804cf68725e38581fa15e2cdd04bbaf5a292af61150eb0b4ab5c70880ef36', 'nonce': '8', 'blockHash': '0xb32c6981a997868d31847c35a63fb01177b9cbf50d32eaf0dacce6a663ee709c', 'transactionIndex': '157', 'from': '0xaaded943bef6115dab272c90ef3a1e01a358336d', 'to': '0xdac17f958d2ee523a2206206994597c13d831ec7', 'value': '0', 'gas': '72221', 'gasPrice': '220000000000', 'isError': '0', 'txreceipt_status': '1', 'input': '0xa9059cbb000000000000000000000000ca22b918cfdc1ecdd258253a8190fec924179238000000000000000000000000000000000000000000000000000000055bef0d15', 'contractAddress': '', 'cumulativeGasUsed': '5358019', 'gasUsed': '41221', 'confirmations': '5037695', 'methodId': '0xa9059cbb', 'functionName': 'transfer(address _to, uint256 _value)'}, {'blockNumber': '11894193', 'timeStamp': '1613829501', 'hash': '0x8d1fe98eed1b3532325984cef7d9f3252210f31dd84840cef910e7ddc69ab246', 'nonce': '340930', 'blockHash': '0x0b67285a0d50594aabaf6406fa381836ac82dd148487e25820a1d80d18c6df03', 'transactionIndex': '11', 'from': '0xb685d0daea607fe75e02c1a7679261eac661b9bc', 'to': '0xaaded943bef6115dab272c90ef3a1e01a358336d', 'value': '95331720000000000', 'gas': '21000', 'gasPrice': '224400001717', 'isError': '0', 'txreceipt_status': '1', 'input': '0x', 'contractAddress': '', 'cumulativeGasUsed': '664232', 'gasUsed': '21000', 'confirmations': '5037693', 'methodId': '0x', 'functionName': ''}, {'blockNumber': '12209627', 'timeStamp': '1618024222', 'hash': '0x98c53ea3a34303cfa7b2f4f2dbf93bec839a6b1ba65a512100b8683319c0e020', 'nonce': '9', 'blockHash': '0x144cc3dfdb64aa15f27ab879c0fcb92d62e59faf587cf997aafcae1b07635f2a', 'transactionIndex': '82', 'from': '0xaaded943bef6115dab272c90ef3a1e01a358336d', 'to': '0x7a250d5630b4cf539739df2c5dacb4c659f2488d', 'value': '0', 'gas': '321632', 'gasPrice': '122100000000', 'isError': '0', 'txreceipt_status': '1', 'input': '0x18cbafe500000000000000000000000000000000000000000000000000000352b3dcd379000000000000000000000000000000000000000000000000182775b54e64b7f200000000000000000000000000000000000000000000000000000000000000a0000000000000000000000000aaded943bef6115dab272c90ef3a1e01a358336d0000000000000000000000000000000000000000000000000000000060711b520000000000000000000000000000000000000000000000000000000000000002000000000000000000000000d46ba6d942050d489dbd938a2c909a5d5039a161000000000000000000000000c02aaa39b223fe8d0a0e5c4f27ead9083c756cc2', 'contractAddress': '', 'cumulativeGasUsed': '4588386', 'gasUsed': '132931', 'confirmations': '4722259', 'methodId': '0x18cbafe5', 'functionName': 'swapExactTokensForETH(uint256 amountIn, uint256 amountOutMin, address[] path, address to, uint256 deadline)'}, {'blockNumber': '12243291', 'timeStamp': '1618471532', 'hash': '0xb0b8f8c76d8a1d4cadadfc61a50c30da2ddd4bb933884d57d7b74f60064f42da', 'nonce': '10', 'blockHash': '0x475b58f2d3d9a215e457f5ced23ce3ea640b8bf8ffbc87d7fd49013e21500df1', 'transactionIndex': '4', 'from': '0xaaded943bef6115dab272c90ef3a1e01a358336d', 'to': '0xd18e6911b511ee21bfa2a0107375dac15b5812a6', 'value': '2825882550304076333', 'gas': '21000', 'gasPrice': '105600000000', 'isError': '0', 'txreceipt_status': '1', 'input': '0x', 'contractAddress': '', 'cumulativeGasUsed': '215824', 'gasUsed': '21000', 'confirmations': '4688595', 'methodId': '0x', 'functionName': ''}, {'blockNumber': '12320302', 'timeStamp': '1619498663', 'hash': '0xa7457b31d4b1cb98b1d1caa9398a7ccdc2fd220b8f63917de811afb71bbc6969', 'nonce': '0', 'blockHash': '0x57daf5d5f3c8f41851ec20c2bbcbbe39bbf3f009df42e17e0a82997714631778', 'transactionIndex': '164', 'from': '0xd18e6911b511ee21bfa2a0107375dac15b5812a6', 'to': '0xaaded943bef6115dab272c90ef3a1e01a358336d', 'value': '30000000000000000', 'gas': '21000', 'gasPrice': '40000000000', 'isError': '0', 'txreceipt_status': '1', 'input': '0x', 'contractAddress': '', 'cumulativeGasUsed': '14580615', 'gasUsed': '21000', 'confirmations': '4611584', 'methodId': '0x', 'functionName': ''}, {'blockNumber': '12320330', 'timeStamp': '1619499185', 'hash': '0xb9d73e483180494b48c882bb148721aa34ae89a7d86451d6c35f9c36688cc7f7', 'nonce': '11', 'blockHash': '0x85d8e98cfea5355275de6aa2980911bf1cf52d470a091fb0a16483f6d1dcc288', 'transactionIndex': '79', 'from': '0xaaded943bef6115dab272c90ef3a1e01a358336d', 'to': '0xf497b83cfbd31e7ba1ab646f3b50ae0af52d03a1', 'value': '0', 'gas': '240000', 'gasPrice': '45130000000', 'isError': '0', 'txreceipt_status': '1', 'input': '0x2e7ba6ef0000000000000000000000000000000000000000000000000000000000006e60000000000000000000000000aaded943bef6115dab272c90ef3a1e01a358336d000000000000000000000000000000000000000000000005052b3feaeb77b77800000000000000000000000000000000000000000000000000000000000000800000000000000000000000000000000000000000000000000000000000000011d611717c6d222243dc2bc6ceac69781e3ca3fba1c4a5c34e9dcf5bc9220b675f060a790f23fc0f9ef1762f5344c26aac32061b1538fc945e33cb549f22ba5241fafc18517600b5cfb2c3b6b43ee57d4cd472be864de4cce2e75a99d439b2c9e102ab4abf2cf78c2e240ed4a8a62485e08cf473ed940ad8ce5ecad9b2550662368519a9d737965773908e0646d233203024edbb2f53d25b104182610ec5ffd9a527d3bcb314e6d275224414648f2912cc3e28e1d8346415d8bbf73ddcde64102e3ccaaa7a71d7764f56252b4bba8ac76314eaff111ef666f5731cf2d3e01934de0121f202c61859275f8afc95dce326a0592dd3127a9ce2230c931544c3eaebfd7be870b4d8561206151d44069b979009d9153b61a2b3c046164525151682e7d73fe7192218dab710fa493748106d916d7b46c8dcb69ccc87b6d0a482d7ceee62afd6fcd7b4cec65f80b8ac880b44a371db6a5af8cdafe3f0ac481154b22d9be0caf3d584478fe71e749ddd7f267f2e2fb230098b547bed2033c81efb4a1141f62340f0e4cbf17d1a90e58c4ec572c1605ab39e61d26ca0081a849d3f00b0eed70c9eb3dd642c2450172ea6734f89bc52ab164212288b46141d74354c682966cafdff7eb171284f86de266d92795a16810c41876878cdc82b2fa6184ae03848c063e6451cd0b3f7cc0b0cbee4a90c576aec1b73af9776c5209d7368950914abf88125e1cc51cc1d2fa3f2b21d03d96fca7d4d9c2f02bd6fb24bc995a8daa5e36e', 'contractAddress': '', 'cumulativeGasUsed': '6942826', 'gasUsed': '82616', 'confirmations': '4611556', 'methodId': '0x2e7ba6ef', 'functionName': 'claim(uint256 index, address account, uint256 amount, bytes32[] merkleProof)'}, {'blockNumber': '13078476', 'timeStamp': '1629679583', 'hash': '0x1c5ed85ab18e40a79352755f825ad3111ba92fe2003d1eb2e786310af81ea6db', 'nonce': '12', 'blockHash': '0x87be6235df27d379b2d4602d25a7760ecc6e8750643b64a9a49e379e6b0b7109', 'transactionIndex': '123', 'from': '0xaaded943bef6115dab272c90ef3a1e01a358336d', 'to': '0x77fba179c79de5b7653f68b5039af940ada60ce0', 'value': '0', 'gas': '111938', 'gasPrice': '38780000000', 'isError': '0', 'txreceipt_status': '1', 'input': '0x095ea7b3000000000000000000000000e592427a0aece92de3edee1f18e0157c05861564ffffffffffffffffffffffffffffffffffffffffffffffffffffffffffffffff', 'contractAddress': '', 'cumulativeGasUsed': '7582945', 'gasUsed': '46641', 'confirmations': '3853410', 'methodId': '0x095ea7b3', 'functionName': 'approve(address _spender, uint256 _value)'}, {'blockNumber': '13078505', 'timeStamp': '1629679883', 'hash': '0xc059cd4fc47d96504ca9f375cc976c4a59dc22f394ba3503e2b4eb4e789b296c', 'nonce': '13', 'blockHash': '0xbff8f5463d975c20fb5e72036685ffbdfc9b8dc8a0a24067370cfc4d26d7d030', 'transactionIndex': '47', 'from': '0xaaded943bef6115dab272c90ef3a1e01a358336d', 'to': '0xe592427a0aece92de3edee1f18e0157c05861564', 'value': '0', 'gas': '321136', 'gasPrice': '40000000000', 'isError': '0', 'txreceipt_status': '1', 'input': '0x414bf38900000000000000000000000077fba179c79de5b7653f68b5039af940ada60ce0000000000000000000000000c02aaa39b223fe8d0a0e5c4f27ead9083c756cc20000000000000000000000000000000000000000000000000000000000000bb8000000000000000000000000aaded943bef6115dab272c90ef3a1e01a358336d000000000000000000000000000000000000000000000000000000006122f57f000000000000000000000000000000000000000000000005052b3feaeb77b77800000000000000000000000000000000000000000000000006dfe766ee21b0b10000000000000000000000000000000000000000000000000000000000000000', 'contractAddress': '', 'cumulativeGasUsed': '2108803', 'gasUsed': '125684', 'confirmations': '3853381', 'methodId': '0x414bf389', 'functionName': 'exactInputSingle(tuple params)'}, {'blockNumber': '13078560', 'timeStamp': '1629680794', 'hash': '0xbbd92fbc1640c3fb6355da988aec9b3c49b013d282454260628fcf4761a9f3db', 'nonce': '14', 'blockHash': '0x431d1e990024997464a3afa507eea8ea0b12cd639d8e76f73da16f1a630bfd40', 'transactionIndex': '48', 'from': '0xaaded943bef6115dab272c90ef3a1e01a358336d', 'to': '0xc02aaa39b223fe8d0a0e5c4f27ead9083c756cc2', 'value': '0', 'gas': '50518', 'gasPrice': '34504361345', 'isError': '0', 'txreceipt_status': '1', 'input': '0xa9059cbb000000000000000000000000789f12ddf20cca018dbd32a3e4d8c737ceeebbc200000000000000000000000000000000000000000000000006e8b4143eaea89e', 'contractAddress': '', 'cumulativeGasUsed': '2090106', 'gasUsed': '29718', 'confirmations': '3853326', 'methodId': '0xa9059cbb', 'functionName': 'transfer(address _to, uint256 _value)'}, {'blockNumber': '16712517', 'timeStamp': '1677415823', 'hash': '0xae37221be52ee83356a1932426f55707dbffb82714fce823fdba5808ede8ea11', 'nonce': '15', 'blockHash': '0x39266388ef9d22630af4e72219c99776537de02453ea026632ba71aa2c4a5d64', 'transactionIndex': '55', 'from': '0xaaded943bef6115dab272c90ef3a1e01a358336d', 'to': '0x80c67432656d59144ceff962e8faf8926599bcf8', 'value': '11300000000009003', 'gas': '21000', 'gasPrice': '21046137409', 'isError': '0', 'txreceipt_status': '1', 'input': '0x', 'contractAddress': '', 'cumulativeGasUsed': '3694991', 'gasUsed': '21000', 'confirmations': '219369', 'methodId': '0x', 'functionName': ''}, {'blockNumber': '16754115', 'timeStamp': '1677921203', 'hash': '0x384fda59c49549fa4a5e17240a8ceb840b406bda27acf0dc863434c6de004293', 'nonce': '16', 'blockHash': '0xd47248d37320f266bc7916cf0e8ca011e0c126ca1f3372eb80ccc82c56cbba52', 'transactionIndex': '88', 'from': '0xaaded943bef6115dab272c90ef3a1e01a358336d', 'to': '0x593829ca46b528b20dcaaa9b7fadecbfa837513b', 'value': '2000000000000000', 'gas': '21000', 'gasPrice': '18523275595', 'isError': '0', 'txreceipt_status': '1', 'input': '0x', 'contractAddress': '', 'cumulativeGasUsed': '10190471', 'gasUsed': '21000', 'confirmations': '177771', 'methodId': '0x', 'functionName': ''}]\n"
     ]
    }
   ],
   "source": [
    "#http请求：get交易信息\n",
    "res = request.urlopen(url)  # 返回响应对象\n",
    "html = res.read().decode()\n",
    "response = json.loads(html)\n",
    "result = response[\"result\"]\n",
    "print(result)"
   ]
  },
  {
   "cell_type": "code",
   "execution_count": 3,
   "id": "ba199daa",
   "metadata": {},
   "outputs": [],
   "source": [
    "#把获得的交易list过滤需要的信息\n",
    "txs = []\n",
    "if len(result)>0:\n",
    "    for tx in result:\n",
    "        time_local = time.localtime(int(tx[\"timeStamp\"]))\n",
    "        time1 = time.strftime(\"%Y/%m/%d %H:%M:%S\",time_local)\n",
    "        value = int(tx[\"value\"])/1e18\n",
    "        txs.append([time1,tx[\"from\"],tx[\"to\"],value])"
   ]
  },
  {
   "cell_type": "code",
   "execution_count": 4,
   "id": "ee77694b",
   "metadata": {},
   "outputs": [],
   "source": [
    "#print(txs)"
   ]
  },
  {
   "cell_type": "code",
   "execution_count": 5,
   "id": "d647b321",
   "metadata": {},
   "outputs": [],
   "source": [
    "import csv\n",
    "# Define the structure of the data\n",
    "tx_header = ['time', 'from', 'to', 'value']\n",
    "# 1. Open a new CSV file\n",
    "with open('txs.csv', \"wt\",newline='') as file:\n",
    "    writer = csv.writer(file)\n",
    "    writer.writerow(tx_header)\n",
    "    for tx in txs:\n",
    "        writer.writerow(tx)"
   ]
  },
  {
   "cell_type": "code",
   "execution_count": null,
   "id": "9ad42e14",
   "metadata": {},
   "outputs": [],
   "source": []
  }
 ],
 "metadata": {
  "kernelspec": {
   "display_name": "Python 3 (ipykernel)",
   "language": "python",
   "name": "python3"
  },
  "language_info": {
   "codemirror_mode": {
    "name": "ipython",
    "version": 3
   },
   "file_extension": ".py",
   "mimetype": "text/x-python",
   "name": "python",
   "nbconvert_exporter": "python",
   "pygments_lexer": "ipython3",
   "version": "3.9.13"
  }
 },
 "nbformat": 4,
 "nbformat_minor": 5
}
